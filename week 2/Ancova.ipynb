{
 "cells": [
  {
   "cell_type": "markdown",
   "id": "efb73f74",
   "metadata": {},
   "source": [
    "## Import necessary libraries"
   ]
  },
  {
   "cell_type": "code",
   "execution_count": 2,
   "id": "08f16b16",
   "metadata": {},
   "outputs": [],
   "source": [
    "import numpy as np\n",
    "import pandas as pd\n",
    "from statsmodels.formula.api import ols\n",
    "import matplotlib.pyplot as plt\n",
    "import seaborn as sns\n",
    "import statsmodels.api as sm"
   ]
  },
  {
   "cell_type": "markdown",
   "id": "db0ba05f",
   "metadata": {},
   "source": [
    "## Data Generation for ANCOVA"
   ]
  },
  {
   "cell_type": "code",
   "execution_count": 3,
   "id": "d69b768c",
   "metadata": {},
   "outputs": [
    {
     "data": {
      "text/html": [
       "<div>\n",
       "<style scoped>\n",
       "    .dataframe tbody tr th:only-of-type {\n",
       "        vertical-align: middle;\n",
       "    }\n",
       "\n",
       "    .dataframe tbody tr th {\n",
       "        vertical-align: top;\n",
       "    }\n",
       "\n",
       "    .dataframe thead th {\n",
       "        text-align: right;\n",
       "    }\n",
       "</style>\n",
       "<table border=\"1\" class=\"dataframe\">\n",
       "  <thead>\n",
       "    <tr style=\"text-align: right;\">\n",
       "      <th></th>\n",
       "      <th>Method</th>\n",
       "      <th>GPA</th>\n",
       "      <th>Score</th>\n",
       "    </tr>\n",
       "  </thead>\n",
       "  <tbody>\n",
       "    <tr>\n",
       "      <th>42</th>\n",
       "      <td>Workshop</td>\n",
       "      <td>2.76</td>\n",
       "      <td>82.294729</td>\n",
       "    </tr>\n",
       "    <tr>\n",
       "      <th>41</th>\n",
       "      <td>Workshop</td>\n",
       "      <td>3.44</td>\n",
       "      <td>85.645189</td>\n",
       "    </tr>\n",
       "    <tr>\n",
       "      <th>22</th>\n",
       "      <td>Video</td>\n",
       "      <td>2.56</td>\n",
       "      <td>70.640467</td>\n",
       "    </tr>\n",
       "    <tr>\n",
       "      <th>34</th>\n",
       "      <td>Workshop</td>\n",
       "      <td>3.11</td>\n",
       "      <td>83.614641</td>\n",
       "    </tr>\n",
       "    <tr>\n",
       "      <th>36</th>\n",
       "      <td>Workshop</td>\n",
       "      <td>2.99</td>\n",
       "      <td>89.643931</td>\n",
       "    </tr>\n",
       "  </tbody>\n",
       "</table>\n",
       "</div>"
      ],
      "text/plain": [
       "      Method   GPA      Score\n",
       "42  Workshop  2.76  82.294729\n",
       "41  Workshop  3.44  85.645189\n",
       "22     Video  2.56  70.640467\n",
       "34  Workshop  3.11  83.614641\n",
       "36  Workshop  2.99  89.643931"
      ]
     },
     "execution_count": 3,
     "metadata": {},
     "output_type": "execute_result"
    }
   ],
   "source": [
    "np.random.seed(42)\n",
    "\n",
    "n = 15  # number of students per group\n",
    "methods = ['Lecture', 'Video', 'Workshop']\n",
    "data = []\n",
    "\n",
    "for method in methods:\n",
    "    for _ in range(n):\n",
    "        gpa = np.round(np.random.normal(3.0, 0.3), 2)  # GPA between ~2.4 to ~3.6\n",
    "        base_score = {'Lecture': 70, 'Video': 75, 'Workshop': 85}[method]\n",
    "        score = base_score + 5 * (gpa - 3.0) + np.random.normal(0, 3)\n",
    "        data.append((method, gpa, score))\n",
    "\n",
    "df = pd.DataFrame(data, columns=['Method', 'GPA', 'Score'])\n",
    "\n",
    "df.sample(5)"
   ]
  },
  {
   "cell_type": "markdown",
   "id": "b640c4c9",
   "metadata": {},
   "source": [
    "### ANCOVA Model \n",
    "\n",
    "- Score ~ C(Method) + GPA"
   ]
  },
  {
   "cell_type": "code",
   "execution_count": 4,
   "id": "4beba9b6",
   "metadata": {},
   "outputs": [
    {
     "name": "stdout",
     "output_type": "stream",
     "text": [
      "ANCOVA Table\n"
     ]
    },
    {
     "data": {
      "text/html": [
       "<div>\n",
       "<style scoped>\n",
       "    .dataframe tbody tr th:only-of-type {\n",
       "        vertical-align: middle;\n",
       "    }\n",
       "\n",
       "    .dataframe tbody tr th {\n",
       "        vertical-align: top;\n",
       "    }\n",
       "\n",
       "    .dataframe thead th {\n",
       "        text-align: right;\n",
       "    }\n",
       "</style>\n",
       "<table border=\"1\" class=\"dataframe\">\n",
       "  <thead>\n",
       "    <tr style=\"text-align: right;\">\n",
       "      <th></th>\n",
       "      <th>sum_sq</th>\n",
       "      <th>df</th>\n",
       "      <th>F</th>\n",
       "      <th>PR(&gt;F)</th>\n",
       "    </tr>\n",
       "  </thead>\n",
       "  <tbody>\n",
       "    <tr>\n",
       "      <th>C(Method)</th>\n",
       "      <td>2005.304218</td>\n",
       "      <td>2.0</td>\n",
       "      <td>105.728668</td>\n",
       "      <td>6.564704e-17</td>\n",
       "    </tr>\n",
       "    <tr>\n",
       "      <th>GPA</th>\n",
       "      <td>80.497115</td>\n",
       "      <td>1.0</td>\n",
       "      <td>8.488341</td>\n",
       "      <td>5.763690e-03</td>\n",
       "    </tr>\n",
       "    <tr>\n",
       "      <th>Residual</th>\n",
       "      <td>388.813527</td>\n",
       "      <td>41.0</td>\n",
       "      <td>NaN</td>\n",
       "      <td>NaN</td>\n",
       "    </tr>\n",
       "  </tbody>\n",
       "</table>\n",
       "</div>"
      ],
      "text/plain": [
       "                sum_sq    df           F        PR(>F)\n",
       "C(Method)  2005.304218   2.0  105.728668  6.564704e-17\n",
       "GPA          80.497115   1.0    8.488341  5.763690e-03\n",
       "Residual    388.813527  41.0         NaN           NaN"
      ]
     },
     "execution_count": 4,
     "metadata": {},
     "output_type": "execute_result"
    }
   ],
   "source": [
    "model = ols('Score ~ C(Method) + GPA', data=df).fit()\n",
    "anova_table = sm.stats.anova_lm(model, typ=2)\n",
    "print(\"ANCOVA Table\")\n",
    "anova_table"
   ]
  },
  {
   "cell_type": "code",
   "execution_count": 5,
   "id": "39e9c4b8",
   "metadata": {},
   "outputs": [
    {
     "name": "stdout",
     "output_type": "stream",
     "text": [
      "                            OLS Regression Results                            \n",
      "==============================================================================\n",
      "Dep. Variable:                  Score   R-squared:                       0.844\n",
      "Model:                            OLS   Adj. R-squared:                  0.833\n",
      "Method:                 Least Squares   F-statistic:                     74.01\n",
      "Date:                Thu, 15 May 2025   Prob (F-statistic):           1.36e-16\n",
      "Time:                        12:03:14   Log-Likelihood:                -112.37\n",
      "No. Observations:                  45   AIC:                             232.7\n",
      "Df Residuals:                      41   BIC:                             240.0\n",
      "Df Model:                           3                                         \n",
      "Covariance Type:            nonrobust                                         \n",
      "=========================================================================================\n",
      "                            coef    std err          t      P>|t|      [0.025      0.975]\n",
      "-----------------------------------------------------------------------------------------\n",
      "Intercept                53.8631      5.300     10.163      0.000      43.160      64.567\n",
      "C(Method)[T.Video]        5.2193      1.125      4.639      0.000       2.947       7.491\n",
      "C(Method)[T.Workshop]    16.0337      1.125     14.254      0.000      13.762      18.305\n",
      "GPA                       5.1798      1.778      2.913      0.006       1.589       8.770\n",
      "==============================================================================\n",
      "Omnibus:                        0.871   Durbin-Watson:                   1.982\n",
      "Prob(Omnibus):                  0.647   Jarque-Bera (JB):                0.891\n",
      "Skew:                          -0.177   Prob(JB):                        0.640\n",
      "Kurtosis:                       2.409   Cond. No.                         38.6\n",
      "==============================================================================\n",
      "\n",
      "Notes:\n",
      "[1] Standard Errors assume that the covariance matrix of the errors is correctly specified.\n"
     ]
    }
   ],
   "source": [
    "print(model.summary())"
   ]
  },
  {
   "cell_type": "code",
   "execution_count": 6,
   "id": "6f345144",
   "metadata": {},
   "outputs": [
    {
     "name": "stdout",
     "output_type": "stream",
     "text": [
      "                            OLS Regression Results                            \n",
      "==============================================================================\n",
      "Dep. Variable:                  Score   R-squared:                       0.844\n",
      "Model:                            OLS   Adj. R-squared:                  0.833\n",
      "Method:                 Least Squares   F-statistic:                     74.01\n",
      "Date:                Thu, 15 May 2025   Prob (F-statistic):           1.36e-16\n",
      "Time:                        12:03:18   Log-Likelihood:                -112.37\n",
      "No. Observations:                  45   AIC:                             232.7\n",
      "Df Residuals:                      41   BIC:                             240.0\n",
      "Df Model:                           3                                         \n",
      "Covariance Type:            nonrobust                                         \n",
      "=========================================================================================\n",
      "                            coef    std err          t      P>|t|      [0.025      0.975]\n",
      "-----------------------------------------------------------------------------------------\n",
      "Intercept                69.1931      0.795     86.990      0.000      67.587      70.799\n",
      "C(Method)[T.Video]        5.2193      1.125      4.639      0.000       2.947       7.491\n",
      "C(Method)[T.Workshop]    16.0337      1.125     14.254      0.000      13.762      18.305\n",
      "GPA_centered              5.1798      1.778      2.913      0.006       1.589       8.770\n",
      "==============================================================================\n",
      "Omnibus:                        0.871   Durbin-Watson:                   1.982\n",
      "Prob(Omnibus):                  0.647   Jarque-Bera (JB):                0.891\n",
      "Skew:                          -0.177   Prob(JB):                        0.640\n",
      "Kurtosis:                       2.409   Cond. No.                         4.33\n",
      "==============================================================================\n",
      "\n",
      "Notes:\n",
      "[1] Standard Errors assume that the covariance matrix of the errors is correctly specified.\n"
     ]
    }
   ],
   "source": [
    "# Predict scores at mean GPA\n",
    "df['GPA_centered'] = df['GPA'] - df['GPA'].mean()  # center GPA to interpret adjusted means\n",
    "model_centered = ols('Score ~ C(Method) + GPA_centered', data=df).fit()\n",
    "print(model_centered.summary())"
   ]
  },
  {
   "cell_type": "code",
   "execution_count": 10,
   "id": "3351bcdb",
   "metadata": {},
   "outputs": [
    {
     "data": {
      "text/html": [
       "<div>\n",
       "<style scoped>\n",
       "    .dataframe tbody tr th:only-of-type {\n",
       "        vertical-align: middle;\n",
       "    }\n",
       "\n",
       "    .dataframe tbody tr th {\n",
       "        vertical-align: top;\n",
       "    }\n",
       "\n",
       "    .dataframe thead th {\n",
       "        text-align: right;\n",
       "    }\n",
       "</style>\n",
       "<table border=\"1\" class=\"dataframe\">\n",
       "  <thead>\n",
       "    <tr style=\"text-align: right;\">\n",
       "      <th></th>\n",
       "      <th>Method</th>\n",
       "      <th>predicted</th>\n",
       "    </tr>\n",
       "  </thead>\n",
       "  <tbody>\n",
       "    <tr>\n",
       "      <th>0</th>\n",
       "      <td>Lecture</td>\n",
       "      <td>69.193110</td>\n",
       "    </tr>\n",
       "    <tr>\n",
       "      <th>1</th>\n",
       "      <td>Video</td>\n",
       "      <td>74.412424</td>\n",
       "    </tr>\n",
       "    <tr>\n",
       "      <th>2</th>\n",
       "      <td>Workshop</td>\n",
       "      <td>85.226838</td>\n",
       "    </tr>\n",
       "  </tbody>\n",
       "</table>\n",
       "</div>"
      ],
      "text/plain": [
       "     Method  predicted\n",
       "0   Lecture  69.193110\n",
       "1     Video  74.412424\n",
       "2  Workshop  85.226838"
      ]
     },
     "execution_count": 10,
     "metadata": {},
     "output_type": "execute_result"
    }
   ],
   "source": [
    "# Get predicted means for each method at average GPA\n",
    "means_df = df.copy()\n",
    "means_df['GPA_centered'] = 0  # force all to mean GPA\n",
    "means_df['predicted'] = model_centered.predict(means_df)\n",
    "\n",
    "adjusted_means = means_df.groupby('Method')['predicted'].mean().reset_index()\n",
    "adjusted_means"
   ]
  },
  {
   "cell_type": "code",
   "execution_count": 9,
   "id": "27cc8e07",
   "metadata": {},
   "outputs": [
    {
     "name": "stderr",
     "output_type": "stream",
     "text": [
      "/tmp/ipykernel_28268/2810910700.py:3: FutureWarning: \n",
      "\n",
      "Passing `palette` without assigning `hue` is deprecated and will be removed in v0.14.0. Assign the `x` variable to `hue` and set `legend=False` for the same effect.\n",
      "\n",
      "  sns.barplot(data=adjusted_means, x='Method', y='predicted', palette='Set2')\n"
     ]
    },
    {
     "data": {
      "image/png": "[encoded data removed]",
      "text/plain": [
       "<Figure size 800x500 with 1 Axes>"
      ]
     },
     "metadata": {},
     "output_type": "display_data"
    }
   ],
   "source": [
    "# Plot adjusted means\n",
    "plt.figure(figsize=(8, 5))\n",
    "sns.barplot(data=adjusted_means, x='Method', y='predicted', palette='Set2')\n",
    "plt.ylabel('Adjusted Exam Score (GPA Controlled)')\n",
    "plt.title('Adjusted Means by Teaching Method (ANCOVA)')\n",
    "plt.ylim(60, 95)\n",
    "plt.tight_layout()\n",
    "plt.show()\n"
   ]
  },
  {
   "cell_type": "markdown",
   "id": "8fedeb75",
   "metadata": {},
   "source": [
    "**Please feel free to ask any questions**\n",
    "\n",
    "**&copy;** *Aayush Raj Regmi, 2025*\n"
   ]
  }
 ],
 "metadata": {
  "kernelspec": {
   "display_name": "otg-fraud",
   "language": "python",
   "name": "python3"
  },
  "language_info": {
   "codemirror_mode": {
    "name": "ipython",
    "version": 3
   },
   "file_extension": ".py",
   "mimetype": "text/x-python",
   "name": "python",
   "nbconvert_exporter": "python",
   "pygments_lexer": "ipython3",
   "version": "3.11.12"
  }
 },
 "nbformat": 4,
 "nbformat_minor": 5
}
