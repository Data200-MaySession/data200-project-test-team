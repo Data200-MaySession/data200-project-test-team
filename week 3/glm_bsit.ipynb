{
 "cells": [
  {
   "cell_type": "code",
   "execution_count": 8,
   "id": "8de1ce6e",
   "metadata": {},
   "outputs": [],
   "source": [
    "import pandas as pd\n",
    "import numpy as np\n",
    "import matplotlib.pyplot as plt\n",
    "import seaborn as sns"
   ]
  },
  {
   "cell_type": "code",
   "execution_count": null,
   "id": "cc476da8",
   "metadata": {},
   "outputs": [],
   "source": [
    "def sigmoid(z):\n",
    "    \"\"\"Compute the sigmoid function.\"\"\"\n",
    "    return 1 / (1 + np.exp(-z)) "
   ]
  },
  {
   "cell_type": "code",
   "execution_count": null,
   "id": "9139b115",
   "metadata": {},
   "outputs": [],
   "source": [
    "x = np.linspace(-10, 10, 100)\n",
    "y = sigmoid(x)\n",
    "plt.figure(figsize=(10, 6))\n",
    "plt.plot(x, y, label='Sigmoid Function', color='blue')\n",
    "plt.title('Sigmoid Function')\n",
    "plt.xlabel('Input (z)')\n",
    "plt.ylabel('Output (sigmoid(z))')\n",
    "plt.axhline(0, color='black', lw=0.5, ls='--')\n",
    "plt.axvline(0, color='black', lw=0.5, ls='--')\n",
    "plt.grid()\n",
    "plt.legend()\n",
    "plt.savefig('sigmoid_function.png')\n",
    "plt.show()"
   ]
  },
  {
   "cell_type": "code",
   "execution_count": null,
   "id": "c2224090",
   "metadata": {},
   "outputs": [],
   "source": [
    "from sklearn.datasets import make_classification\n",
    "from sklearn.linear_model import LogisticRegression\n",
    "import statsmodels.api as sm"
   ]
  },
  {
   "cell_type": "code",
   "execution_count": null,
   "id": "34aea53b",
   "metadata": {},
   "outputs": [],
   "source": [
    "# Generate synthetic classification data\n",
    "X, y = make_classification(n_samples=200, n_features=2, n_redundant=0, n_clusters_per_class=1, random_state=42)\n",
    "\n",
    "# Build and fit logistic regression model\n",
    "logreg = LogisticRegression()\n",
    "logreg.fit(X, y)\n",
    "\n",
    "# Print model coefficients and intercept\n",
    "print(\"Coefficients:\", logreg.coef_)\n",
    "print(\"Intercept:\", logreg.intercept_)"
   ]
  },
  {
   "cell_type": "code",
   "execution_count": null,
   "id": "907f8976",
   "metadata": {},
   "outputs": [],
   "source": [
    "m1 = logreg.coef_[0][0]\n",
    "m2 = logreg.coef_[0][1]\n",
    "\n",
    "print(f\"m1: {m1}, m2: {m2}\")"
   ]
  },
  {
   "cell_type": "code",
   "execution_count": null,
   "id": "93ec6114",
   "metadata": {},
   "outputs": [
    {
     "data": {
      "text/plain": [
       "<Figure size 1000x600 with 0 Axes>"
      ]
     },
     "execution_count": 11,
     "metadata": {},
     "output_type": "execute_result"
    },
    {
     "data": {
      "text/plain": [
       "<Figure size 1000x600 with 0 Axes>"
      ]
     },
     "metadata": {},
     "output_type": "display_data"
    }
   ],
   "source": [
    "def decision_boundary(x1, m1, m2, intercept):\n",
    "    \"\"\"Compute the decision boundary for logistic regression.\"\"\"\n",
    "    return -(m1 * x1 + intercept) / m2\n",
    "\n",
    "x1 = np.linspace(-3, 3, 100)\n",
    "y1 = decision_boundary(x1, m1, m2, logreg.intercept_[0])\n",
    "\n"
   ]
  }
 ],
 "metadata": {
  "kernelspec": {
   "display_name": "Python 3",
   "language": "python",
   "name": "python3"
  },
  "language_info": {
   "codemirror_mode": {
    "name": "ipython",
    "version": 3
   },
   "file_extension": ".py",
   "mimetype": "text/x-python",
   "name": "python",
   "nbconvert_exporter": "python",
   "pygments_lexer": "ipython3",
   "version": "3.12.1"
  }
 },
 "nbformat": 4,
 "nbformat_minor": 5
}
