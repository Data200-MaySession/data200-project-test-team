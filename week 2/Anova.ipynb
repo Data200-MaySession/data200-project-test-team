{
 "cells": [
  {
   "cell_type": "markdown",
   "id": "a0ecd5e9",
   "metadata": {},
   "source": [
    "# Import Necessary libraries"
   ]
  },
  {
   "cell_type": "code",
   "execution_count": 3,
   "id": "112506f6",
   "metadata": {},
   "outputs": [],
   "source": [
    "import scipy.stats as stats\n",
    "import pandas as pd\n",
    "import statsmodels.api as sm\n",
    "from statsmodels.formula.api import ols\n",
    "import matplotlib.pyplot as plt\n",
    "import seaborn as sns\n",
    "import numpy as np"
   ]
  },
  {
   "cell_type": "code",
   "execution_count": 4,
   "id": "40990b59",
   "metadata": {},
   "outputs": [],
   "source": [
    "# Scores from three different teaching methods\n",
    "group_A = [70, 68, 72, 65, 69]  # Traditional lectures\n",
    "group_B = [78, 74, 80, 76, 77]  # Online videos\n",
    "group_C = [85, 87, 90, 88, 86]  # Interactive workshops\n"
   ]
  },
  {
   "cell_type": "markdown",
   "id": "c4ed6f42",
   "metadata": {},
   "source": [
    "# Performing One-Way ANOVA\n",
    "\n",
    "- Using scipy.stats.f_oneway"
   ]
  },
  {
   "cell_type": "code",
   "execution_count": 5,
   "id": "dca6cf48",
   "metadata": {},
   "outputs": [
    {
     "name": "stdout",
     "output_type": "stream",
     "text": [
      "F-statistic: 82.77\n",
      "p-value: 0.0\n"
     ]
    }
   ],
   "source": [
    "f_statistic, p_value = stats.f_oneway(group_A, group_B, group_C)\n",
    "\n",
    "print(\"F-statistic:\", round(f_statistic, 2))\n",
    "print(\"p-value:\", round(p_value, 4))"
   ]
  },
  {
   "cell_type": "markdown",
   "id": "e98cfa8e",
   "metadata": {},
   "source": [
    "# Interpreting the results"
   ]
  },
  {
   "cell_type": "code",
   "execution_count": 6,
   "id": "b4b69b5d",
   "metadata": {},
   "outputs": [
    {
     "name": "stdout",
     "output_type": "stream",
     "text": [
      "Result: Significant differences exist between the group means.\n"
     ]
    }
   ],
   "source": [
    "if p_value < 0.05:\n",
    "    print(\"Result: Significant differences exist between the group means.\")\n",
    "else:\n",
    "    print(\"Result: No significant differences between the group means.\")"
   ]
  },
  {
   "cell_type": "markdown",
   "id": "f886eff1",
   "metadata": {},
   "source": [
    "# Generating Data for ANOVA"
   ]
  },
  {
   "cell_type": "code",
   "execution_count": 7,
   "id": "66c54ff8",
   "metadata": {},
   "outputs": [
    {
     "data": {
      "text/html": [
       "<div>\n",
       "<style scoped>\n",
       "    .dataframe tbody tr th:only-of-type {\n",
       "        vertical-align: middle;\n",
       "    }\n",
       "\n",
       "    .dataframe tbody tr th {\n",
       "        vertical-align: top;\n",
       "    }\n",
       "\n",
       "    .dataframe thead th {\n",
       "        text-align: right;\n",
       "    }\n",
       "</style>\n",
       "<table border=\"1\" class=\"dataframe\">\n",
       "  <thead>\n",
       "    <tr style=\"text-align: right;\">\n",
       "      <th></th>\n",
       "      <th>Score</th>\n",
       "      <th>Method</th>\n",
       "      <th>Gender</th>\n",
       "    </tr>\n",
       "  </thead>\n",
       "  <tbody>\n",
       "    <tr>\n",
       "      <th>2</th>\n",
       "      <td>72</td>\n",
       "      <td>Lecture</td>\n",
       "      <td>Male</td>\n",
       "    </tr>\n",
       "    <tr>\n",
       "      <th>28</th>\n",
       "      <td>89</td>\n",
       "      <td>Workshop</td>\n",
       "      <td>Female</td>\n",
       "    </tr>\n",
       "    <tr>\n",
       "      <th>13</th>\n",
       "      <td>88</td>\n",
       "      <td>Workshop</td>\n",
       "      <td>Male</td>\n",
       "    </tr>\n",
       "    <tr>\n",
       "      <th>10</th>\n",
       "      <td>85</td>\n",
       "      <td>Workshop</td>\n",
       "      <td>Male</td>\n",
       "    </tr>\n",
       "    <tr>\n",
       "      <th>26</th>\n",
       "      <td>86</td>\n",
       "      <td>Workshop</td>\n",
       "      <td>Female</td>\n",
       "    </tr>\n",
       "    <tr>\n",
       "      <th>24</th>\n",
       "      <td>78</td>\n",
       "      <td>Video</td>\n",
       "      <td>Female</td>\n",
       "    </tr>\n",
       "    <tr>\n",
       "      <th>27</th>\n",
       "      <td>91</td>\n",
       "      <td>Workshop</td>\n",
       "      <td>Female</td>\n",
       "    </tr>\n",
       "    <tr>\n",
       "      <th>11</th>\n",
       "      <td>87</td>\n",
       "      <td>Workshop</td>\n",
       "      <td>Male</td>\n",
       "    </tr>\n",
       "    <tr>\n",
       "      <th>17</th>\n",
       "      <td>78</td>\n",
       "      <td>Lecture</td>\n",
       "      <td>Female</td>\n",
       "    </tr>\n",
       "    <tr>\n",
       "      <th>22</th>\n",
       "      <td>82</td>\n",
       "      <td>Video</td>\n",
       "      <td>Female</td>\n",
       "    </tr>\n",
       "  </tbody>\n",
       "</table>\n",
       "</div>"
      ],
      "text/plain": [
       "    Score    Method  Gender\n",
       "2      72   Lecture    Male\n",
       "28     89  Workshop  Female\n",
       "13     88  Workshop    Male\n",
       "10     85  Workshop    Male\n",
       "26     86  Workshop  Female\n",
       "24     78     Video  Female\n",
       "27     91  Workshop  Female\n",
       "11     87  Workshop    Male\n",
       "17     78   Lecture  Female\n",
       "22     82     Video  Female"
      ]
     },
     "execution_count": 7,
     "metadata": {},
     "output_type": "execute_result"
    }
   ],
   "source": [
    "np.random.seed(0)\n",
    "# Sample data\n",
    "data = {\n",
    "    'Score': [70, 68, 72, 65, 69,   # Lecture-Male\n",
    "              78, 74, 80, 76, 77,   # Video-Male\n",
    "              85, 87, 90, 88, 86,   # Workshop-Male\n",
    "              75, 73, 78, 74, 76,   # Lecture-Female\n",
    "              80, 77, 82, 79, 78,   # Video-Female\n",
    "              88, 86, 91, 89, 87],  # Workshop-Female\n",
    "              \n",
    "    'Method': ['Lecture']*5 + ['Video']*5 + ['Workshop']*5 + \n",
    "              ['Lecture']*5 + ['Video']*5 + ['Workshop']*5,\n",
    "    \n",
    "    'Gender': ['Male']*15 + ['Female']*15\n",
    "}\n",
    "\n",
    "df = pd.DataFrame(data)\n",
    "df.sample(10)"
   ]
  },
  {
   "cell_type": "markdown",
   "id": "63ba2e1f",
   "metadata": {},
   "source": [
    "## One way Anova For (Score ~ Method)"
   ]
  },
  {
   "cell_type": "markdown",
   "id": "49c6f1e7",
   "metadata": {},
   "source": [
    "### Using Scipy stats method"
   ]
  },
  {
   "cell_type": "code",
   "execution_count": 8,
   "id": "5ef26cee",
   "metadata": {},
   "outputs": [
    {
     "name": "stdout",
     "output_type": "stream",
     "text": [
      "F-statistic: 75.84618834080717, P-value: 8.317244651215984e-12\n"
     ]
    }
   ],
   "source": [
    "methods = df[\"Method\"].unique()\n",
    "scores_by_methods = [df[df[\"Method\"] == method][\"Score\"] for method in methods]\n",
    "\n",
    "f_stat, p_value = stats.f_oneway(*scores_by_methods)\n",
    "print(f\"F-statistic: {f_stat}, P-value: {p_value}\")"
   ]
  },
  {
   "cell_type": "markdown",
   "id": "f10807f5",
   "metadata": {},
   "source": [
    "### Using OLS Method and statsmodels library"
   ]
  },
  {
   "cell_type": "code",
   "execution_count": 9,
   "id": "c9c0b603",
   "metadata": {},
   "outputs": [
    {
     "data": {
      "text/html": [
       "<div>\n",
       "<style scoped>\n",
       "    .dataframe tbody tr th:only-of-type {\n",
       "        vertical-align: middle;\n",
       "    }\n",
       "\n",
       "    .dataframe tbody tr th {\n",
       "        vertical-align: top;\n",
       "    }\n",
       "\n",
       "    .dataframe thead th {\n",
       "        text-align: right;\n",
       "    }\n",
       "</style>\n",
       "<table border=\"1\" class=\"dataframe\">\n",
       "  <thead>\n",
       "    <tr style=\"text-align: right;\">\n",
       "      <th></th>\n",
       "      <th>sum_sq</th>\n",
       "      <th>df</th>\n",
       "      <th>F</th>\n",
       "      <th>PR(&gt;F)</th>\n",
       "    </tr>\n",
       "  </thead>\n",
       "  <tbody>\n",
       "    <tr>\n",
       "      <th>C(Method)</th>\n",
       "      <td>1252.866667</td>\n",
       "      <td>2.0</td>\n",
       "      <td>75.846188</td>\n",
       "      <td>8.317245e-12</td>\n",
       "    </tr>\n",
       "    <tr>\n",
       "      <th>Residual</th>\n",
       "      <td>223.000000</td>\n",
       "      <td>27.0</td>\n",
       "      <td>NaN</td>\n",
       "      <td>NaN</td>\n",
       "    </tr>\n",
       "  </tbody>\n",
       "</table>\n",
       "</div>"
      ],
      "text/plain": [
       "                sum_sq    df          F        PR(>F)\n",
       "C(Method)  1252.866667   2.0  75.846188  8.317245e-12\n",
       "Residual    223.000000  27.0        NaN           NaN"
      ]
     },
     "execution_count": 9,
     "metadata": {},
     "output_type": "execute_result"
    }
   ],
   "source": [
    "model = ols(\"Score ~ C(Method)\", data=df).fit()\n",
    "sm.stats.anova_lm(model, typ=2)"
   ]
  },
  {
   "cell_type": "markdown",
   "id": "11d33339",
   "metadata": {},
   "source": [
    "## 2 way Anova\n",
    "\n",
    "1. **Dependent Variable:**  Score\n",
    "2. **Independent Variable / Features:** Method and Gender"
   ]
  },
  {
   "cell_type": "markdown",
   "id": "d5a115fd",
   "metadata": {},
   "source": [
    "## Visualizing interaction effect between (Gender and Method)"
   ]
  },
  {
   "cell_type": "code",
   "execution_count": 10,
   "id": "140b6f51",
   "metadata": {},
   "outputs": [
    {
     "data": {
      "image/png": "[encoded data removed]",
      "text/plain": [
       "<Figure size 800x600 with 1 Axes>"
      ]
     },
     "metadata": {},
     "output_type": "display_data"
    }
   ],
   "source": [
    "# Teaching Method VS Gender\n",
    "mean_scores = df.groupby([\"Method\", \"Gender\"])[\"Score\"].mean().reset_index()\n",
    "plt.figure(figsize=(8, 6))\n",
    "sns.pointplot(\n",
    "    data=mean_scores,\n",
    "    x=\"Method\",\n",
    "    y=\"Score\",\n",
    "    hue=\"Gender\",\n",
    "    markers=[\"o\", \"s\"],\n",
    "    linestyles=[\"-\", \"--\"],\n",
    ")\n",
    "\n",
    "# Customize plot\n",
    "plt.title(\"Interaction Plot: Teaching Method × Gender\")\n",
    "plt.ylabel(\"Mean Exam Score\")\n",
    "plt.xlabel(\"Teaching Method\")\n",
    "plt.ylim(60, 95)\n",
    "plt.legend(title=\"Gender\")\n",
    "plt.tight_layout()\n",
    "plt.show()"
   ]
  },
  {
   "cell_type": "code",
   "execution_count": 11,
   "id": "2374266c",
   "metadata": {},
   "outputs": [
    {
     "name": "stdout",
     "output_type": "stream",
     "text": [
      "                            OLS Regression Results                            \n",
      "==============================================================================\n",
      "Dep. Variable:                  Score   R-squared:                       0.928\n",
      "Model:                            OLS   Adj. R-squared:                  0.913\n",
      "Method:                 Least Squares   F-statistic:                     62.03\n",
      "Date:                Fri, 16 May 2025   Prob (F-statistic):           6.16e-13\n",
      "Time:                        11:08:49   Log-Likelihood:                -61.502\n",
      "No. Observations:                  30   AIC:                             135.0\n",
      "Df Residuals:                      24   BIC:                             143.4\n",
      "Df Model:                           5                                         \n",
      "Covariance Type:            nonrobust                                         \n",
      "===========================================================================================================\n",
      "                                              coef    std err          t      P>|t|      [0.025      0.975]\n",
      "-----------------------------------------------------------------------------------------------------------\n",
      "Intercept                                  75.2000      0.940     80.012      0.000      73.260      77.140\n",
      "C(Method)[T.Video]                          4.0000      1.329      3.009      0.006       1.257       6.743\n",
      "C(Method)[T.Workshop]                      13.0000      1.329      9.781      0.000      10.257      15.743\n",
      "C(Gender)[T.Male]                          -6.4000      1.329     -4.815      0.000      -9.143      -3.657\n",
      "C(Method)[T.Video]:C(Gender)[T.Male]        4.2000      1.880      2.234      0.035       0.320       8.080\n",
      "C(Method)[T.Workshop]:C(Gender)[T.Male]     5.4000      1.880      2.873      0.008       1.520       9.280\n",
      "==============================================================================\n",
      "Omnibus:                        0.957   Durbin-Watson:                   2.948\n",
      "Prob(Omnibus):                  0.620   Jarque-Bera (JB):                0.819\n",
      "Skew:                           0.098   Prob(JB):                        0.664\n",
      "Kurtosis:                       2.214   Cond. No.                         9.77\n",
      "==============================================================================\n",
      "\n",
      "Notes:\n",
      "[1] Standard Errors assume that the covariance matrix of the errors is correctly specified.\n"
     ]
    }
   ],
   "source": [
    "# Build the model for two-way ANOVA\n",
    "model = ols('Score ~ C(Method) + C(Gender) + C(Method):C(Gender)', data=df).fit() #Score ~ C(Method) * C(Gender) \n",
    "print(model.summary())"
   ]
  },
  {
   "cell_type": "code",
   "execution_count": 12,
   "id": "18604676",
   "metadata": {},
   "outputs": [
    {
     "data": {
      "text/html": [
       "<div>\n",
       "<style scoped>\n",
       "    .dataframe tbody tr th:only-of-type {\n",
       "        vertical-align: middle;\n",
       "    }\n",
       "\n",
       "    .dataframe tbody tr th {\n",
       "        vertical-align: top;\n",
       "    }\n",
       "\n",
       "    .dataframe thead th {\n",
       "        text-align: right;\n",
       "    }\n",
       "</style>\n",
       "<table border=\"1\" class=\"dataframe\">\n",
       "  <thead>\n",
       "    <tr style=\"text-align: right;\">\n",
       "      <th></th>\n",
       "      <th>sum_sq</th>\n",
       "      <th>df</th>\n",
       "      <th>F</th>\n",
       "      <th>PR(&gt;F)</th>\n",
       "    </tr>\n",
       "  </thead>\n",
       "  <tbody>\n",
       "    <tr>\n",
       "      <th>C(Method)</th>\n",
       "      <td>1252.866667</td>\n",
       "      <td>2.0</td>\n",
       "      <td>141.833962</td>\n",
       "      <td>5.076311e-14</td>\n",
       "    </tr>\n",
       "    <tr>\n",
       "      <th>C(Gender)</th>\n",
       "      <td>76.800000</td>\n",
       "      <td>1.0</td>\n",
       "      <td>17.388679</td>\n",
       "      <td>3.426366e-04</td>\n",
       "    </tr>\n",
       "    <tr>\n",
       "      <th>C(Method):C(Gender)</th>\n",
       "      <td>40.200000</td>\n",
       "      <td>2.0</td>\n",
       "      <td>4.550943</td>\n",
       "      <td>2.110095e-02</td>\n",
       "    </tr>\n",
       "    <tr>\n",
       "      <th>Residual</th>\n",
       "      <td>106.000000</td>\n",
       "      <td>24.0</td>\n",
       "      <td>NaN</td>\n",
       "      <td>NaN</td>\n",
       "    </tr>\n",
       "  </tbody>\n",
       "</table>\n",
       "</div>"
      ],
      "text/plain": [
       "                          sum_sq    df           F        PR(>F)\n",
       "C(Method)            1252.866667   2.0  141.833962  5.076311e-14\n",
       "C(Gender)              76.800000   1.0   17.388679  3.426366e-04\n",
       "C(Method):C(Gender)    40.200000   2.0    4.550943  2.110095e-02\n",
       "Residual              106.000000  24.0         NaN           NaN"
      ]
     },
     "execution_count": 12,
     "metadata": {},
     "output_type": "execute_result"
    }
   ],
   "source": [
    "# Two-way ANOVA (Implemented same as one way except for model fitting in ols)\n",
    "anova_table = sm.stats.anova_lm(model, typ=2)\n",
    "anova_table"
   ]
  },
  {
   "cell_type": "markdown",
   "id": "9218efe0",
   "metadata": {},
   "source": [
    "**Please feel free to ask any questions**\n",
    "\n",
    "**&copy;** *Aayush Raj Regmi, 2025*\n"
   ]
  }
 ],
 "metadata": {
  "kernelspec": {
   "display_name": "otg-fraud",
   "language": "python",
   "name": "python3"
  },
  "language_info": {
   "codemirror_mode": {
    "name": "ipython",
    "version": 3
   },
   "file_extension": ".py",
   "mimetype": "text/x-python",
   "name": "python",
   "nbconvert_exporter": "python",
   "pygments_lexer": "ipython3",
   "version": "3.11.12"
  }
 },
 "nbformat": 4,
 "nbformat_minor": 5
}
